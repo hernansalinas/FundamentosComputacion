{
  "nbformat": 4,
  "nbformat_minor": 0,
  "metadata": {
    "colab": {
      "provenance": []
    },
    "kernelspec": {
      "name": "python3",
      "display_name": "Python 3"
    },
    "language_info": {
      "name": "python"
    }
  },
  "cells": [
    {
      "cell_type": "markdown",
      "source": [
        "# Comandos de interés de pandas"
      ],
      "metadata": {
        "id": "N5QxNlr_uFa1"
      }
    },
    {
      "cell_type": "markdown",
      "source": [
        "| Comando                      | Explicación                                                                                          |\n",
        "|------------------------------|-----------------------------------------------------------------------------------------------------|\n",
        "| `pd.DataFrame(data)`         | Crea un DataFrame a partir de un diccionario de datos o de una lista de listas, diccionarios, etc.  |\n",
        "| `df['columna']`              | Selecciona una columna específica de un DataFrame.                                                  |\n",
        "| `df[['col1', 'col2']]`       | Selecciona múltiples columnas específicas de un DataFrame.                                          |\n",
        "| `df.loc[índice]`             | Selecciona una fila específica por índice, utilizando la etiqueta del índice.                      |\n",
        "| `df.iloc[índice]`            | Selecciona una fila específica por índice, utilizando la posición numérica del índice.              |\n",
        "| `df[df['columna'] > valor]`  | Filtra las filas del DataFrame donde los valores de una columna son mayores que un valor dado.      |\n",
        "| `df['columna'].mean()`       | Calcula la media (promedio) de una columna numérica.                                               |\n",
        "| `df['columna'].std()`        | Calcula la desviación estándar de una columna numérica.                                            |\n",
        "| `df['columna'].min()`        | Encuentra el valor mínimo en una columna.                                                          |\n",
        "| `df['columna'].max()`        | Encuentra el valor máximo en una columna.                                                          |\n",
        "| `df.describe()`              | Genera estadísticas descriptivas para columnas numéricas, como la media, la desviación estándar, etc. |\n",
        "| `df[df['columna'].notnull()]`| Filtra las filas del DataFrame donde los valores de una columna no son nulos.                      |\n",
        "| `df.groupby('columna')`      | Agrupa el DataFrame por una o más columnas.                                                        |\n",
        "| `df.groupby('columna').mean()` | Calcula la media de cada grupo para columnas numéricas después de agrupar por una columna.        |\n",
        "| `df.plot(kind='bar')`        | Crea un gráfico de barras para los datos de un DataFrame.                                          |\n",
        "| `df.plot(kind='scatter', x='col1', y='col2')` | Crea un gráfico de dispersión utilizando dos columnas especificadas.                   |\n",
        "| `df.apply(func, axis=1)`     | Aplica una función a lo largo de un eje del DataFrame (por filas o columnas).                      |\n",
        "| `df['columna'].astype(tipo)` | Cambia el tipo de datos de una columna específica.                                                 |\n",
        "| `plt.xlabel('texto')`        | Establece la etiqueta del eje x en una gráfica de Matplotlib.                                      |\n",
        "| `plt.ylabel('texto')`        | Establece la etiqueta del eje y en una gráfica de Matplotlib.                                      |\n",
        "| `plt.title('texto')`         | Establece el título de una gráfica de Matplotlib.                                                  |\n",
        "| `plt.grid(True)`             | Activa el grid (rejilla) en una gráfica de Matplotlib.                                             |\n",
        "| `plt.show()`                 | Muestra la gráfica generada en Matplotlib.                                                         |\n"
      ],
      "metadata": {
        "id": "nyJeXBJhrpUQ"
      }
    },
    {
      "cell_type": "markdown",
      "source": [
        "# Punto 1\n",
        "\n",
        "Propiedades de Elementos Químicos\n",
        "\n",
        "\n",
        "\n",
        "| Elemento    | Símbolo | Número Atómico | Masa Atómica (u) | Punto de Fusión (K) | Punto de Ebullición (K) | Electronegatividad (Pauling) |\n",
        "|-------------|---------|----------------|------------------|---------------------|-------------------------|------------------------------|\n",
        "| Hidrógeno   | H       | 1              | 1.008            | 14.01               | 20.28                   | 2.20                         |\n",
        "| Helio       | He      | 2              | 4.0026           | 0.95                | 4.22                    | -                            |\n",
        "| Litio       | Li      | 3              | 6.94             | 453.69              | 1560                    | 0.98                         |\n",
        "| Berilio     | Be      | 4              | 9.0122           | 1560                | 2742                    | 1.57                         |\n",
        "| Boro        | B       | 5              | 10.81            | 2349                | 4200                    | 2.04                         |\n",
        "| Carbono     | C       | 6              | 12.011           | 3823                | 4098                    | 2.55                         |\n",
        "| Nitrógeno   | N       | 7              | 14.007           | 63.15               | 77.36                   | 3.04                         |\n",
        "| Oxígeno     | O       | 8              | 15.999           | 54.36               | 90.20                   | 3.44                         |\n",
        "| Flúor       | F       | 9              | 18.998           | 53.53               | 85.03                   | 3.98                         |\n",
        "| Neón        | Ne      | 10             | 20.180           | 24.56               | 27.07                   | -                            |\n",
        "\n",
        "\n",
        "1. Utiliza los datos proporcionados para crear un DataFrame llamado df_elementos.\n",
        "\n",
        "\n",
        "2. Asegúrate de que las columnas tengan los tipos de datos adecuados (por ejemplo, numéricos para valores numéricos y de objeto para cadenas).\n",
        "\n",
        "\n",
        "3. Selecciona las columnas 'Elemento' y 'Masa Atómica (u)'.\n",
        "\n",
        "4. Filtra los elementos con una masa atómica mayor a 10 u.\n",
        "\n",
        "5. Selecciona los elementos que tienen una electronegatividad conocida.\n",
        "\n",
        "\n",
        "\n",
        "6. Calcula la masa atómica promedio de los elementos.\n",
        "\n",
        "7. Encuentra el elemento con el punto de fusión más bajo y el más alto.\n",
        "\n",
        "8. Cálcula el promedio y la desviación estándar de las electronegatividades conocidas.\n",
        "\n",
        "9. Crea un gráfico de barras que muestre la masa atómica de cada elemento.\n",
        "\n",
        "10. Genera un gráfico de dispersión (scatter plot) de la masa atómica versus la electronegatividad.\n",
        "\n",
        "\n",
        "11. Agrupa los elementos por estado de la materia a temperatura ambiente (sólido, líquido, gas) basado en los puntos de fusión y ebullición.\n",
        "\n",
        "\n",
        "12. Calcula la masa atómica promedio para cada grupo de estado de la materia.\n",
        "\n",
        "13. Realiza una visualización que compare las masas atómicas promedio de los diferentes estados.\n",
        "\n",
        "\n"
      ],
      "metadata": {
        "id": "kHmhO-HUpUuk"
      }
    },
    {
      "cell_type": "markdown",
      "source": [
        "# Puntos 2.\n",
        "\n",
        "\n",
        "Para el siguiente data frame :\n",
        "\n",
        "\n",
        "\n",
        "| Partícula      | Masa (MeV/c^2) | Carga (e) | Spin | Tiempo de Vida Media (s) | Interacción Fundamental |\n",
        "|----------------|----------------|-----------|------|--------------------------|-------------------------|\n",
        "| Electrón       | 0.511          | -1        | 1/2  | 6.6 x 10^29              | Electromagnética        |\n",
        "| Protón         | 938.272        | +1        | 1/2  | Estable                  | Electromagnética, Fuerte|\n",
        "| Neutrón        | 939.565        | 0         | 1/2  | 881.5                    | Fuerte, Débil           |\n",
        "| Muón           | 105.658        | -1        | 1/2  | 2.2 x 10^-6              | Electromagnética        |\n",
        "| Pión (+)       | 139.570        | +1        | 0    | 2.6 x 10^-8              | Fuerte                  |\n",
        "| Pión (0)       | 134.977        | 0         | 0    | 8.4 x 10^-17             | Fuerte                  |\n",
        "| Pión (-)       | 139.570        | -1        | 0    | 2.6 x 10^-8              | Fuerte                  |\n",
        "| Kaón (K+)      | 493.677        | +1        | 0    | 1.24 x 10^-8             | Fuerte                  |\n",
        "| Kaón (K0)      | 497.611        | 0         | 0    | 5.1 x 10^-8              | Fuerte                  |\n",
        "\n",
        "\n",
        "\n",
        "\n",
        "1. Usa los datos proporcionados para crear un DataFrame llamado df_particulas. Asegúrate de que las columnas tengan los tipos de datos adecuados.\n",
        "\n",
        "\n",
        "2. Utiliza Matplotlib para crear una gráfica de dispersión (scatter plot) que muestre la masa de cada partícula en función de su tiempo de vida media.\n",
        "Usa una escala logarítmica para el tiempo de vida media.\n",
        "Etiqueta los ejes de la gráfica adecuadamente.\n",
        "\n",
        "\n",
        "3. Crea una gráfica de dispersión que muestre la carga de cada partícula en función de su masa. Colorea los puntos de la gráfica según la interacción fundamental a la que pertenece cada partícula (por ejemplo, usando colores diferentes para electromagnética, fuerte, débil).\n",
        "\n",
        "\n",
        "4.  Crea un gráfico de barras que muestre el número de partículas con cada valor de spin. Asegúrate de etiquetar correctamente los valores de spin (por ejemplo, 1/2, 0).\n",
        "\n",
        "\n",
        "5. Calcula la matriz de correlación para las columnas numéricas del DataFrame. Identifica las relaciones más fuertes entre las diferentes características de las partículas (como masa, carga, tiempo de vida media).\n",
        "\n",
        "\n",
        "6. Calcula la masa atómica promedio de los elementos.\n",
        "\n",
        "7. Encuentra el elemento con el punto de fusión más bajo y el más alto.\n",
        "\n",
        "8. Calcula el promedio y la desviación estándar de las electronegatividades conocidas.\n",
        "\n",
        "\n",
        "9. Crea un gráfico de barras que muestre la masa atómica de cada elemento.\n",
        "\n",
        "10. Genera un gráfico de dispersión (scatter plot) de la masa atómica versus la electronegatividad.\n",
        "\n",
        "\n",
        "11. Agrupa los elementos por estado de la materia a temperatura ambiente (sólido, líquido, gas) basado en los puntos de fusión y ebullición.\n",
        "\n",
        "12. Calcula la masa atómica promedio para cada grupo de estado de la materia.\n",
        "Realiza una visualización que compare las masas atómicas promedio de los diferentes estados.\n"
      ],
      "metadata": {
        "id": "H-u75Qm_pUzj"
      }
    },
    {
      "cell_type": "markdown",
      "source": [
        "#Solución Punto 1"
      ],
      "metadata": {
        "id": "mtSTDrRLl02g"
      }
    },
    {
      "cell_type": "code",
      "source": [
        "import pandas as pd\n",
        "elemento1 = {\"Elemento\": \"Hidrógeno\", \"Símbolo\":\"H\", \"Número Atómico\":1, \"Masa Atómica (u)\":1.008, \"Punto de Fusión (K)\":14.01, \"Punto de Ebullición (K)\":20.28, \"Electronegatividad (Pauling)\":2.20}\n",
        "elemento2 = {\"Elemento\": \"Helio\", \"Símbolo\":\"He\", \"Número Atómico\":2, \"Masa Atómica (u)\":4.0026, \"Punto de Fusión (K)\":0.95, \"Punto de Ebullición (K)\":4.22, \"Electronegatividad (Pauling)\":None}\n",
        "elemento3 = {\"Elemento\": \"Litio\", \"Símbolo\":\"Li\", \"Número Atómico\":3, \"Masa Atómica (u)\":6.94, \"Punto de Fusión (K)\":453.69, \"Punto de Ebullición (K)\":1560, \"Electronegatividad (Pauling)\":0.98}\n",
        "elemento4 = {\"Elemento\": \"Berilio\", \"Símbolo\":\"Be\", \"Número Atómico\":4, \"Masa Atómica (u)\":9.0122, \"Punto de Fusión (K)\":1560, \"Punto de Ebullición (K)\":2742, \"Electronegatividad (Pauling)\":1.57}\n",
        "elemento5 = {\"Elemento\": \"Boro\", \"Símbolo\":\"B\", \"Número Atómico\":5, \"Masa Atómica (u)\":10.81, \"Punto de Fusión (K)\":2349, \"Punto de Ebullición (K)\":4200, \"Electronegatividad (Pauling)\":2.04}\n",
        "elemento6 = {\"Elemento\": \"Carbono\", \"Símbolo\":\"C\", \"Número Atómico\":6, \"Masa Atómica (u)\":12.011, \"Punto de Fusión (K)\":3823, \"Punto de Ebullición (K)\":4098, \"Electronegatividad (Pauling)\":2.55}\n",
        "elemento7 = {\"Elemento\": \"Nitrógeno\", \"Símbolo\":\"N\", \"Número Atómico\":7, \"Masa Atómica (u)\":14.007, \"Punto de Fusión (K)\":63.15, \"Punto de Ebullición (K)\":77.36, \"Electronegatividad (Pauling)\":3.04}\n",
        "elemento8 = {\"Elemento\": \"Oxígeno\", \"Símbolo\":\"O\", \"Número Atómico\":8, \"Masa Atómica (u)\":15.999, \"Punto de Fusión (K)\":54.36, \"Punto de Ebullición (K)\":90.20, \"Electronegatividad (Pauling)\":3.44}\n",
        "elemento9 = {\"Elemento\": \"Flúor\", \"Símbolo\":\"F\", \"Número Atómico\":9, \"Masa Atómica (u)\":18.998, \"Punto de Fusión (K)\":53.53, \"Punto de Ebullición (K)\":85.03, \"Electronegatividad (Pauling)\":3.98}\n",
        "elemento10 = {\"Elemento\": \"Neón\", \"Símbolo\":\"Ne\", \"Número Atómico\":10, \"Masa Atómica (u)\":20.180, \"Punto de Fusión (K)\":24.56, \"Punto de Ebullición (K)\":27.07, \"Electronegatividad (Pauling)\":None}\n",
        "\n",
        "elemento1 = pd.Series(elemento1)\n",
        "elemento2 = pd.Series(elemento2)\n",
        "elemento3 = pd.Series(elemento3)\n",
        "elemento4 = pd.Series(elemento4)\n",
        "elemento5 = pd.Series(elemento5)\n",
        "elemento6 = pd.Series(elemento6)\n",
        "elemento7 = pd.Series(elemento7)\n",
        "elemento8 = pd.Series(elemento8)\n",
        "elemento9 = pd.Series(elemento9)\n",
        "elemento10 = pd.Series(elemento10)\n",
        "\n",
        "df_elementos = pd.DataFrame([elemento1,elemento2,elemento3,elemento4,elemento5,elemento6,elemento7,elemento8,elemento9,elemento10])\n",
        "print(df_elementos)"
      ],
      "metadata": {
        "id": "0fAs_js30DJD",
        "colab": {
          "base_uri": "https://localhost:8080/"
        },
        "outputId": "e3a89987-1b85-4c1c-adf7-232f6e2c4bcf"
      },
      "execution_count": null,
      "outputs": [
        {
          "output_type": "stream",
          "name": "stdout",
          "text": [
            "    Elemento Símbolo  Número Atómico  Masa Atómica (u)  Punto de Fusión (K)  \\\n",
            "0  Hidrógeno       H               1            1.0080                14.01   \n",
            "1      Helio      He               2            4.0026                 0.95   \n",
            "2      Litio      Li               3            6.9400               453.69   \n",
            "3    Berilio      Be               4            9.0122              1560.00   \n",
            "4       Boro       B               5           10.8100              2349.00   \n",
            "5    Carbono       C               6           12.0110              3823.00   \n",
            "6  Nitrógeno       N               7           14.0070                63.15   \n",
            "7    Oxígeno       O               8           15.9990                54.36   \n",
            "8      Flúor       F               9           18.9980                53.53   \n",
            "9       Neón      Ne              10           20.1800                24.56   \n",
            "\n",
            "   Punto de Ebullición (K)  Electronegatividad (Pauling)  \n",
            "0                    20.28                          2.20  \n",
            "1                     4.22                           NaN  \n",
            "2                  1560.00                          0.98  \n",
            "3                  2742.00                          1.57  \n",
            "4                  4200.00                          2.04  \n",
            "5                  4098.00                          2.55  \n",
            "6                    77.36                          3.04  \n",
            "7                    90.20                          3.44  \n",
            "8                    85.03                          3.98  \n",
            "9                    27.07                           NaN  \n"
          ]
        }
      ]
    },
    {
      "cell_type": "code",
      "source": [],
      "metadata": {
        "id": "zYwxqyQ4Ibia"
      },
      "execution_count": null,
      "outputs": []
    }
  ]
}