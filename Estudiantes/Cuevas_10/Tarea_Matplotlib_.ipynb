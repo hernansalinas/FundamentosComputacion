{
  "cells": [
    {
      "cell_type": "markdown",
      "metadata": {
        "id": "G1-CXKwYk86i"
      },
      "source": [
        "# Tarea: Estudio de Diccionarios, Series y DataFrames en Python\n",
        "\n",
        "## Parte 1: Diccionarios (3 puntos)\n",
        "\n",
        "### 1.1  Crear un diccionario de estudiantes y sus calificaciones\n",
        "\n",
        "Crea un diccionario llamado `calificaciones` que contenga el nombre de 5 estudiantes como claves y sus calificaciones como valores. Por ejemplo:\n",
        "\n",
        "```python\n",
        "calificaciones = {\n",
        "    'Ana': 85,\n",
        "    'Juan': 92,\n",
        "    'María': 78,\n",
        "    'Pedro': 88,\n",
        "    'Lucía': 95\n",
        "}\n",
        "```\n",
        "### 1.2  Actualizar y eliminar elementos en un diccionario\n",
        "Añade una nueva entrada al diccionario con el nombre \"Carlos\" y la calificación 80.\n",
        "Elimina la entrada para el estudiante con la calificación más baja.\n",
        "Actualiza la calificación de \"María\" a 82.\n",
        "\n",
        "### 1.3 Análisis de datos en un diccionario\n",
        "Dado un diccionario de productos y precios, escribe una función que reciba este diccionario y devuelva el producto más caro y el más barato. Por ejemplo:\n",
        "\n",
        "```python\n",
        "productos = {\n",
        "    'manzanas': 2.5,\n",
        "    'naranjas': 3.0,\n",
        "    'plátanos': 1.2,\n",
        "    'peras': 2.8\n",
        "}\n",
        "```\n",
        "## Parte 2: Series (2 puntos)\n",
        "\n",
        "2.1  Crear una Serie de Pandas\n",
        "\n",
        "Crea una Serie de Pandas llamada serie_calificaciones utilizando el diccionario de calificaciones del ejercicio 1.1.\n",
        "\n",
        "2.2 Operaciones básicas con Series\n",
        "\n",
        "A partir de la serie serie_calificaciones, calcula la calificación promedio y selecciona las calificaciones mayores a 85.\n",
        "\n",
        "## Parte 3: DataFrames (5 puntos)\n",
        "3.1  Crear un DataFrame\n",
        "\n",
        "Crea un DataFrame llamado df_estudiantes con los siguientes datos:\n",
        "\n",
        "|Nombre|\tEdad|\tGrado|\n",
        "|------|------|------|\n",
        "|Ana|\t16|\t10|\n",
        "|Juan|\t17|\t11|\n",
        "|María|\t15|\t10|\n",
        "|Pedro|\t16|\t11|\n",
        "|Lucía|\t17|\t12|\n",
        "\n",
        "3.2 Filtrado y selección en DataFrames\n",
        "\n",
        "Selecciona los estudiantes que están en el grado 11 y tienen una edad mayor o igual a 16 años. Luego, muestra solo sus nombres y edades.\n",
        "\n",
        "3.3  Análisis de datos en DataFrames\n",
        "\n",
        "Dado un DataFrame con información de ventas de un año completo, realiza un análisis para encontrar el mes con la mayor y menor cantidad de ventas, y calcula la venta promedio mensual. Supón que tienes el siguiente DataFrame:\n",
        "\n",
        "|Mes\t|Ventas|\n",
        "|-----|------|\n",
        "|Enero|\t2000|\n",
        "|Febrero|\t2100|\n",
        "|Marzo\t|1800|\n",
        "|Abril\t|2400|\n",
        "|Mayo\t|2300|\n",
        "|Junio\t|2200|\n",
        "|Julio\t|2500|\n",
        "|Agosto\t|2700|\n",
        "|Septiembre\t|2600|\n",
        "|Octubre\t|2900|\n",
        "|Noviembre\t|3000|\n",
        "|Diciembre\t|3100|\n",
        "\n",
        "4. En el siguiente DataFrame  donde cada fila representa un planeta del sistema solar, realiza lo siguiente:\n",
        "\n",
        "| Planeta    | Masa (10^24 kg) | Radio (km) | Distancia al Sol (10^6 km) | Periodo Orbital (días) | Gravedad (m/s^2) |\n",
        "|------------|-----------------|------------|----------------------------|-----------------------|------------------|\n",
        "| Mercurio   | 0.330           | 2439.7     | 57.9                       | 88                    | 3.7              |\n",
        "| Venus      | 4.87            | 6051.8     | 108.2                      | 224.7                 | 8.9              |\n",
        "| Tierra     | 5.97            | 6371       | 149.6                      | 365.2                 | 9.8              |\n",
        "| Marte      | 0.642           | 3389.5     | 227.9                      | 687                   | 3.7              |\n",
        "| Júpiter    | 1898            | 69911      | 778.5                      | 4331                  | 24.8             |\n",
        "| Saturno    | 568             | 58232      | 1434                       | 10747                 | 10.4             |\n",
        "| Urano      | 86.8            | 25362      | 2871                       | 30589                 | 8.7              |\n",
        "| Neptuno    | 102             | 24622      | 4495                       | 59800                 | 11.2             |\n",
        "\n",
        "4.1 Usa los datos proporcionados para crear un DataFrame llamado df_planetas.\n",
        "Asegúrate de que las columnas tengan los tipos de datos adecuados.\n",
        "\n",
        "4.2  Utiliza Matplotlib para crear una gráfica de dispersión (scatter plot) que muestre la masa de cada planeta en función de su radio.\n",
        "Etiqueta los ejes de la gráfica adecuadamente.\n",
        "\n",
        "4.3 Crea una gráfica de dispersión que muestre la distancia de cada planeta al Sol en función de su periodo orbital. Identifica si existe una relación entre estas dos variables.\n",
        "\n",
        "4.4 Crea un gráfico de barras que muestre la gravedad superficial de cada planeta. Ordena los planetas en el gráfico de mayor a menor gravedad.\n",
        "\n",
        "4.5  Calcula la matriz de correlación para las columnas numéricas del DataFrame. Identifica las relaciones más fuertes entre las diferentes características de los planetas."
      ]
    },
    {
      "cell_type": "markdown",
      "metadata": {},
      "source": [
        "# Solución parte 1"
      ]
    },
    {
      "cell_type": "markdown",
      "metadata": {},
      "source": [
        "### 1.1  Crear un diccionario de estudiantes y sus calificaciones"
      ]
    },
    {
      "cell_type": "code",
      "execution_count": 1,
      "metadata": {},
      "outputs": [
        {
          "data": {
            "text/plain": [
              "{'Lucia': 99, 'Ana': 88, 'Juan': 72, 'Maria': 70, 'Pedro': 56}"
            ]
          },
          "execution_count": 1,
          "metadata": {},
          "output_type": "execute_result"
        }
      ],
      "source": [
        "calificaciones = {'Lucia':99, 'Ana':88, 'Juan':72, 'Maria':70, 'Pedro':56}\n",
        "calificaciones"
      ]
    },
    {
      "cell_type": "markdown",
      "metadata": {},
      "source": [
        "### 1.2 Actualizar y eliminar elementos en un diccionario"
      ]
    },
    {
      "cell_type": "code",
      "execution_count": 2,
      "metadata": {},
      "outputs": [
        {
          "name": "stdout",
          "output_type": "stream",
          "text": [
            "{'Lucia': 99, 'Ana': 88, 'Juan': 72, 'Maria': 82, 'Carlos': 80}\n"
          ]
        }
      ],
      "source": [
        "# Agregar estudiante\n",
        "calificaciones['Carlos'] = 80\n",
        "\n",
        "# Eliminar estudiante\n",
        "estudiante_min = min(calificaciones, key=calificaciones.get)\n",
        "del calificaciones[estudiante_min]\n",
        "\n",
        "# Cambiar calificación\n",
        "calificaciones['Maria'] = 82\n",
        "\n",
        "print(calificaciones)"
      ]
    },
    {
      "cell_type": "markdown",
      "metadata": {},
      "source": [
        "### 1.3 Análisis de datos en un diccionario"
      ]
    },
    {
      "cell_type": "code",
      "execution_count": 3,
      "metadata": {},
      "outputs": [
        {
          "data": {
            "text/plain": [
              "{'Más Barato': ('Manzana', 1.0), 'Más Caro': ('Fresas', 7.0)}"
            ]
          },
          "execution_count": 3,
          "metadata": {},
          "output_type": "execute_result"
        }
      ],
      "source": [
        "productos = {'Mango':2.5, 'Pera':3.5, 'Piña':5.5, 'Guanabana':4.5, 'Manzana':1.0, 'Fresas':7.0, 'Naranja':4.0}\n",
        "\n",
        "def barato_caro():\n",
        "    import pandas as pd\n",
        "    X=pd.Series(productos)\n",
        "\n",
        "    Precio_Barato = min(X)\n",
        "    Nombre_Barato = X.idxmin()\n",
        "    \n",
        "    Precio_Caro = max(X)\n",
        "    Nombre_caro = X.idxmax()\n",
        "\n",
        "    Barato = Nombre_Barato, Precio_Barato\n",
        "    Caro = Nombre_caro, Precio_Caro\n",
        "    \n",
        "    return {'Más Barato':(Barato), 'Más Caro':(Caro)}\n",
        "\n",
        "barato_caro()"
      ]
    },
    {
      "cell_type": "markdown",
      "metadata": {},
      "source": [
        "# Solución parte 2"
      ]
    },
    {
      "cell_type": "markdown",
      "metadata": {},
      "source": [
        "### 2.1 Crear una Serie de Pandas"
      ]
    },
    {
      "cell_type": "code",
      "execution_count": 4,
      "metadata": {},
      "outputs": [
        {
          "data": {
            "text/plain": [
              "Lucia    99\n",
              "Ana      88\n",
              "Juan     72\n",
              "Maria    70\n",
              "Pedro    56\n",
              "dtype: int64"
            ]
          },
          "execution_count": 4,
          "metadata": {},
          "output_type": "execute_result"
        }
      ],
      "source": [
        "import pandas as pd \n",
        "calificaciones = {'Lucia':99, 'Ana':88, 'Juan':72, 'Maria':70, 'Pedro':56}\n",
        "\n",
        "serie_calificaciones = pd.Series(calificaciones)\n",
        "serie_calificaciones"
      ]
    },
    {
      "cell_type": "markdown",
      "metadata": {},
      "source": [
        "### 2.2 Operaciones básicas con Series"
      ]
    },
    {
      "cell_type": "code",
      "execution_count": 5,
      "metadata": {},
      "outputs": [
        {
          "name": "stdout",
          "output_type": "stream",
          "text": [
            "Nota promedio = 77.0\n",
            "Notas > 85 = Lucia    99\n",
            "Ana      88\n",
            "dtype: int64\n"
          ]
        }
      ],
      "source": [
        "# Nota promedio\n",
        "Promedio = serie_calificaciones.mean()\n",
        "print('Nota promedio =', Promedio)\n",
        "\n",
        "# Notas > 85\n",
        "Mayores_85 = serie_calificaciones[serie_calificaciones > 85]\n",
        "print('Notas > 85 =', Mayores_85)"
      ]
    },
    {
      "cell_type": "markdown",
      "metadata": {},
      "source": [
        "## Solución Parte 3"
      ]
    },
    {
      "cell_type": "markdown",
      "metadata": {},
      "source": [
        "### 3.1 Crear un DataFrame"
      ]
    },
    {
      "cell_type": "code",
      "execution_count": 6,
      "metadata": {},
      "outputs": [
        {
          "name": "stdout",
          "output_type": "stream",
          "text": [
            "  Nombre  Edad  Grado\n",
            "0    Ana    16     10\n",
            "1   Juan    17     11\n",
            "2  María    15     10\n",
            "3  Pedro    16     11\n",
            "4  Lucía    17     12\n"
          ]
        }
      ],
      "source": [
        "import pandas as pd\n",
        "Nombre = ['Ana', 'Juan', 'María', 'Pedro', 'Lucía']\n",
        "Edad = [16, 17, 15, 16, 17]\n",
        "Grado = [10, 11, 10, 11, 12]\n",
        "\n",
        "Serie_Nombre = pd.Series(Nombre)\n",
        "Serie_Edad = pd.Series(Edad)\n",
        "Serie_Grado = pd.Series(Grado)\n",
        "\n",
        "df_estudiantes = pd.DataFrame({'Nombre':Serie_Nombre, 'Edad':Serie_Edad, 'Grado':Serie_Grado})\n",
        "print(df_estudiantes)"
      ]
    },
    {
      "cell_type": "markdown",
      "metadata": {},
      "source": [
        "### 3.2 Filtrado y selección en DataFrames"
      ]
    },
    {
      "cell_type": "code",
      "execution_count": 7,
      "metadata": {},
      "outputs": [
        {
          "name": "stdout",
          "output_type": "stream",
          "text": [
            "  Nombre  Edad\n",
            "1   Juan    17\n",
            "3  Pedro    16\n"
          ]
        }
      ],
      "source": [
        "print(df_estudiantes[(Serie_Grado == 11) & (Serie_Edad >= 16)][['Nombre', 'Edad']])"
      ]
    },
    {
      "cell_type": "markdown",
      "metadata": {},
      "source": [
        "### 3.3 Análisis de datos en DataFrames"
      ]
    },
    {
      "cell_type": "code",
      "execution_count": 8,
      "metadata": {},
      "outputs": [
        {
          "name": "stdout",
          "output_type": "stream",
          "text": [
            "El mes de mayores ventas es = Diciembre\n",
            "\n",
            "El mes de menores ventas es = Marzo\n",
            "\n",
            "El promedio de ventas mensual es = 2466.6666666666665\n"
          ]
        }
      ],
      "source": [
        "import pandas as pd\n",
        "Meses = ['Enero', 'Febrero', 'Marzo', 'Abril', 'Mayo', 'Junio', 'Julio', 'Agosto', 'Septiembre', 'Octubre', 'Noviembre', 'Diciembre']\n",
        "Ventas = [2000, 2100, 1800, 2400, 2300, 2200, 2500, 2700, 2600, 2900, 3000, 3100]\n",
        "\n",
        "Serie_Meses = pd.Series(Meses)\n",
        "Serie_Ventas = pd.Series(Ventas)\n",
        "\n",
        "indice_mayor_ventas = Serie_Ventas.idxmax()\n",
        "incice_menor_ventas = Serie_Ventas.idxmin()\n",
        "\n",
        "mes_mayor_ventas = Serie_Meses[indice_mayor_ventas]\n",
        "mes_menor_ventas = Serie_Meses[incice_menor_ventas]\n",
        "\n",
        "print('El mes de mayores ventas es =', mes_mayor_ventas)\n",
        "print('\\nEl mes de menores ventas es =', mes_menor_ventas)\n",
        "print('\\nEl promedio de ventas mensual es =', Serie_Ventas.mean())"
      ]
    },
    {
      "cell_type": "markdown",
      "metadata": {},
      "source": [
        "\n",
        "## Solución Parte 4"
      ]
    },
    {
      "cell_type": "markdown",
      "metadata": {},
      "source": [
        "### 4.1 Usa los datos proporcionados para crear un DataFrame llamado df_planetas.\n"
      ]
    },
    {
      "cell_type": "code",
      "execution_count": 9,
      "metadata": {},
      "outputs": [
        {
          "name": "stdout",
          "output_type": "stream",
          "text": [
            "    Planeta  Masa (10^24 kg)  Radio (km)  Distancia al Sol (10^6 km)  \\\n",
            "0  Mercurio            0.330      2439.7                        57.9   \n",
            "1     Venus            4.870      6051.8                       108.2   \n",
            "2    Tierra            5.970      6371.0                       149.6   \n",
            "3     Marte            0.642      3389.5                       227.9   \n",
            "4   Júpiter         1898.000     69911.0                       778.5   \n",
            "5   Saturno          568.000     58232.0                      1434.0   \n",
            "6     Urano           86.800     25362.0                      2871.0   \n",
            "7   Neptuno          102.000     24622.0                      4495.0   \n",
            "\n",
            "   Periodo Orbital (días)  Gravedad (m/s^2)  \n",
            "0                    88.0               3.7  \n",
            "1                   224.7               8.9  \n",
            "2                   365.2               9.8  \n",
            "3                   687.0               3.7  \n",
            "4                  4331.0              24.8  \n",
            "5                 10747.0              10.4  \n",
            "6                 30589.0               8.7  \n",
            "7                 59800.0              11.2  \n"
          ]
        }
      ],
      "source": [
        "import pandas as pd\n",
        "\n",
        "Datos_Planetas = {'Planeta': ['Mercurio', 'Venus', 'Tierra', 'Marte', 'Júpiter', 'Saturno', 'Urano', 'Neptuno'],\n",
        "    'Masa (10^24 kg)': [0.330, 4.87, 5.97, 0.642, 1898, 568, 86.8, 102],\n",
        "    'Radio (km)': [2439.7, 6051.8, 6371, 3389.5, 69911, 58232, 25362, 24622],\n",
        "    'Distancia al Sol (10^6 km)': [57.9, 108.2, 149.6, 227.9, 778.5, 1434, 2871, 4495],\n",
        "    'Periodo Orbital (días)': [88, 224.7, 365.2, 687, 4331, 10747, 30589, 59800],\n",
        "    'Gravedad (m/s^2)': [3.7, 8.9, 9.8, 3.7, 24.8, 10.4, 8.7, 11.2]}\n",
        "\n",
        "df_planetas = pd.DataFrame(Datos_Planetas)\n",
        "print(df_planetas)"
      ]
    },
    {
      "cell_type": "markdown",
      "metadata": {},
      "source": [
        "### 4.2 Utiliza Matplotlib para crear una gráfica de dispersión (scatter plot) que muestre la masa de cada planeta en función de su radio.\n",
        "Etiqueta los ejes de la gráfica adecuadamente."
      ]
    },
    {
      "cell_type": "code",
      "execution_count": 10,
      "metadata": {},
      "outputs": [
        {
          "data": {
            "image/png": "[encoded data removed]",
            "text/plain": [
              "<Figure size 1000x500 with 1 Axes>"
            ]
          },
          "metadata": {},
          "output_type": "display_data"
        }
      ],
      "source": [
        "import matplotlib.pyplot as plt\n",
        "\n",
        "plt.figure(figsize=(10, 5))\n",
        "plt.scatter(df_planetas['Radio (km)'], df_planetas['Masa (10^24 kg)'])\n",
        "plt.title('Masa de los Planetas en función de su Radio')\n",
        "plt.xlabel('Radio (km)')\n",
        "plt.ylabel('Masa (10^24 kg)')\n",
        "plt.grid()\n",
        "plt.tight_layout()"
      ]
    },
    {
      "cell_type": "markdown",
      "metadata": {},
      "source": [
        "### 4.3 Crea una gráfica de dispersión que muestre la distancia de cada planeta al Sol en función de su periodo orbital. Identifica si existe una relación entre estas dos variables."
      ]
    },
    {
      "cell_type": "code",
      "execution_count": 11,
      "metadata": {},
      "outputs": [
        {
          "data": {
            "image/png": "[encoded data removed]",
            "text/plain": [
              "<Figure size 1000x500 with 1 Axes>"
            ]
          },
          "metadata": {},
          "output_type": "display_data"
        }
      ],
      "source": [
        "import matplotlib.pyplot as plt\n",
        "\n",
        "plt.figure(figsize=(10, 5))\n",
        "plt.scatter(df_planetas['Periodo Orbital (días)'], df_planetas['Distancia al Sol (10^6 km)'])\n",
        "plt.title('Distancia al Sol en función del Periodo Orbital')\n",
        "plt.xlabel('Periodo Orbital (días)')\n",
        "plt.ylabel('Distancia al Sol (10^6 km)')\n",
        "plt.grid()\n",
        "plt.tight_layout()\n"
      ]
    },
    {
      "cell_type": "markdown",
      "metadata": {},
      "source": [
        "### 4.4 Crea un gráfico de barras que muestre la gravedad superficial de cada planeta. Ordena los planetas en el gráfico de mayor a menor gravedad."
      ]
    },
    {
      "cell_type": "code",
      "execution_count": 12,
      "metadata": {},
      "outputs": [
        {
          "data": {
            "image/png": "[encoded data removed]",
            "text/plain": [
              "<Figure size 1000x500 with 1 Axes>"
            ]
          },
          "metadata": {},
          "output_type": "display_data"
        }
      ],
      "source": [
        "import matplotlib.pyplot as plt\n",
        "\n",
        "ascendente = df_planetas.sort_values(by='Gravedad (m/s^2)', ascending=False)\n",
        "\n",
        "plt.figure(figsize=(10, 5))\n",
        "plt.bar(ascendente['Planeta'], ascendente['Gravedad (m/s^2)'])\n",
        "plt.title('Gravedad Superficial de los Planetas')\n",
        "plt.xlabel('Planeta')\n",
        "plt.ylabel('Gravedad (m/s^2)')\n",
        "plt.tight_layout()"
      ]
    },
    {
      "cell_type": "markdown",
      "metadata": {},
      "source": [
        "### 4.5 Calcula la matriz de correlación para las columnas numéricas del DataFrame. Identifica las relaciones más fuertes entre las diferentes características de los planetas."
      ]
    },
    {
      "cell_type": "markdown",
      "metadata": {},
      "source": [
        "# Aun no hacemos matrices "
      ]
    }
  ],
  "metadata": {
    "colab": {
      "provenance": []
    },
    "kernelspec": {
      "display_name": "Python 3",
      "name": "python3"
    },
    "language_info": {
      "codemirror_mode": {
        "name": "ipython",
        "version": 3
      },
      "file_extension": ".py",
      "mimetype": "text/x-python",
      "name": "python",
      "nbconvert_exporter": "python",
      "pygments_lexer": "ipython3",
      "version": "3.12.4"
    }
  },
  "nbformat": 4,
  "nbformat_minor": 0
}
